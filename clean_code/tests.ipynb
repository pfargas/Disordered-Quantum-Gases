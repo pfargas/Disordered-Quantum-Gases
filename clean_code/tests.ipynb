{
 "cells": [
  {
   "cell_type": "code",
   "execution_count": 5,
   "metadata": {},
   "outputs": [
    {
     "name": "stdout",
     "output_type": "stream",
     "text": [
      "[1 2 3 4 5 6]\n"
     ]
    }
   ],
   "source": [
    "import numpy as np\n",
    "\n",
    "array = np.array([[1,2],[3,4],[5,6]])\n",
    "array.flatten()\n",
    "print(array.flatten())"
   ]
  },
  {
   "cell_type": "code",
   "execution_count": 1,
   "metadata": {},
   "outputs": [
    {
     "name": "stderr",
     "output_type": "stream",
     "text": [
      "/home/pau/Desktop/TFM/Disordered-Quantum-Gases/clean_code/histogram.py:3: TqdmExperimentalWarning: Using `tqdm.autonotebook.tqdm` in notebook mode. Use `tqdm.tqdm` instead to force console mode (e.g. in jupyter console)\n",
      "  from tqdm.autonotebook import tqdm as tqdm\n"
     ]
    },
    {
     "name": "stdout",
     "output_type": "stream",
     "text": [
      "M_MATRIX_CALC INITIALIZATION\n"
     ]
    },
    {
     "data": {
      "application/vnd.jupyter.widget-view+json": {
       "model_id": "23378accccb34a0586cd44d114f760b8",
       "version_major": 2,
       "version_minor": 0
      },
      "text/plain": [
       "  0%|          | 0/100 [00:00<?, ?it/s]"
      ]
     },
     "metadata": {},
     "output_type": "display_data"
    },
    {
     "data": {
      "application/vnd.jupyter.widget-view+json": {
       "model_id": "070c20a0989749d7bb0747bda08803e0",
       "version_major": 2,
       "version_minor": 0
      },
      "text/plain": [
       "Diagonalization time: 0.24\n",
       " Computing resonances:   0%|          | 0/474 [00:00<?, ?it/s]"
      ]
     },
     "metadata": {},
     "output_type": "display_data"
    },
    {
     "data": {
      "application/vnd.jupyter.widget-view+json": {
       "model_id": "b0633473b9c7421bb5f6f2271f633afc",
       "version_major": 2,
       "version_minor": 0
      },
      "text/plain": [
       "Diagonalization time: 0.23\n",
       " Computing resonances:   0%|          | 0/486 [00:00<?, ?it/s]"
      ]
     },
     "metadata": {},
     "output_type": "display_data"
    },
    {
     "data": {
      "application/vnd.jupyter.widget-view+json": {
       "model_id": "200f4e1de9e446eeb8ffae9cb5654eb2",
       "version_major": 2,
       "version_minor": 0
      },
      "text/plain": [
       "Diagonalization time: 0.20\n",
       " Computing resonances:   0%|          | 0/465 [00:00<?, ?it/s]"
      ]
     },
     "metadata": {},
     "output_type": "display_data"
    },
    {
     "data": {
      "application/vnd.jupyter.widget-view+json": {
       "model_id": "b38711150df94683bc4cbf18f321af44",
       "version_major": 2,
       "version_minor": 0
      },
      "text/plain": [
       "Diagonalization time: 0.23\n",
       " Computing resonances:   0%|          | 0/490 [00:00<?, ?it/s]"
      ]
     },
     "metadata": {},
     "output_type": "display_data"
    },
    {
     "data": {
      "application/vnd.jupyter.widget-view+json": {
       "model_id": "a44c042ca10d4729a67b5830490c6c8e",
       "version_major": 2,
       "version_minor": 0
      },
      "text/plain": [
       "Diagonalization time: 0.19\n",
       " Computing resonances:   0%|          | 0/451 [00:00<?, ?it/s]"
      ]
     },
     "metadata": {},
     "output_type": "display_data"
    },
    {
     "data": {
      "application/vnd.jupyter.widget-view+json": {
       "model_id": "c2924c60dc254a16b3eccb9cde9ae120",
       "version_major": 2,
       "version_minor": 0
      },
      "text/plain": [
       "Diagonalization time: 0.26\n",
       " Computing resonances:   0%|          | 0/507 [00:00<?, ?it/s]"
      ]
     },
     "metadata": {},
     "output_type": "display_data"
    },
    {
     "data": {
      "application/vnd.jupyter.widget-view+json": {
       "model_id": "ec3004f9273145cea434dd66f86ebb19",
       "version_major": 2,
       "version_minor": 0
      },
      "text/plain": [
       "Diagonalization time: 0.24\n",
       " Computing resonances:   0%|          | 0/489 [00:00<?, ?it/s]"
      ]
     },
     "metadata": {},
     "output_type": "display_data"
    },
    {
     "data": {
      "application/vnd.jupyter.widget-view+json": {
       "model_id": "4ab74e34ba394dbe8e4e48ddaaaa514f",
       "version_major": 2,
       "version_minor": 0
      },
      "text/plain": [
       "Diagonalization time: 0.21\n",
       " Computing resonances:   0%|          | 0/480 [00:00<?, ?it/s]"
      ]
     },
     "metadata": {},
     "output_type": "display_data"
    },
    {
     "data": {
      "application/vnd.jupyter.widget-view+json": {
       "model_id": "35f86499620148c98a3a09bde914c79c",
       "version_major": 2,
       "version_minor": 0
      },
      "text/plain": [
       "Diagonalization time: 0.22\n",
       " Computing resonances:   0%|          | 0/488 [00:00<?, ?it/s]"
      ]
     },
     "metadata": {},
     "output_type": "display_data"
    },
    {
     "data": {
      "application/vnd.jupyter.widget-view+json": {
       "model_id": "b118d5fea47d454a809683d9afd49229",
       "version_major": 2,
       "version_minor": 0
      },
      "text/plain": [
       "Diagonalization time: 0.22\n",
       " Computing resonances:   0%|          | 0/489 [00:00<?, ?it/s]"
      ]
     },
     "metadata": {},
     "output_type": "display_data"
    },
    {
     "data": {
      "application/vnd.jupyter.widget-view+json": {
       "model_id": "a0b5551874ba47b98b16f0951a2d5de2",
       "version_major": 2,
       "version_minor": 0
      },
      "text/plain": [
       "Diagonalization time: 0.27\n",
       " Computing resonances:   0%|          | 0/503 [00:00<?, ?it/s]"
      ]
     },
     "metadata": {},
     "output_type": "display_data"
    },
    {
     "data": {
      "application/vnd.jupyter.widget-view+json": {
       "model_id": "e0bab03f481a486d917ad7f0071a2064",
       "version_major": 2,
       "version_minor": 0
      },
      "text/plain": [
       "Diagonalization time: 0.20\n",
       " Computing resonances:   0%|          | 0/461 [00:00<?, ?it/s]"
      ]
     },
     "metadata": {},
     "output_type": "display_data"
    },
    {
     "data": {
      "application/vnd.jupyter.widget-view+json": {
       "model_id": "51c365d8c15f47139c42c59f55a8fe3e",
       "version_major": 2,
       "version_minor": 0
      },
      "text/plain": [
       "Diagonalization time: 0.27\n",
       " Computing resonances:   0%|          | 0/517 [00:00<?, ?it/s]"
      ]
     },
     "metadata": {},
     "output_type": "display_data"
    },
    {
     "data": {
      "application/vnd.jupyter.widget-view+json": {
       "model_id": "704c590cea564d9390d7ad2692995f91",
       "version_major": 2,
       "version_minor": 0
      },
      "text/plain": [
       "Diagonalization time: 0.19\n",
       " Computing resonances:   0%|          | 0/452 [00:00<?, ?it/s]"
      ]
     },
     "metadata": {},
     "output_type": "display_data"
    },
    {
     "data": {
      "application/vnd.jupyter.widget-view+json": {
       "model_id": "63b9a3fdf91047c3a8d487078c043762",
       "version_major": 2,
       "version_minor": 0
      },
      "text/plain": [
       "Diagonalization time: 0.20\n",
       " Computing resonances:   0%|          | 0/473 [00:00<?, ?it/s]"
      ]
     },
     "metadata": {},
     "output_type": "display_data"
    },
    {
     "data": {
      "application/vnd.jupyter.widget-view+json": {
       "model_id": "1fd69e338a1d429da8674e9618ec69d4",
       "version_major": 2,
       "version_minor": 0
      },
      "text/plain": [
       "Diagonalization time: 0.26\n",
       " Computing resonances:   0%|          | 0/506 [00:00<?, ?it/s]"
      ]
     },
     "metadata": {},
     "output_type": "display_data"
    },
    {
     "data": {
      "application/vnd.jupyter.widget-view+json": {
       "model_id": "be661aecbc7f448893e786178f4c0fb9",
       "version_major": 2,
       "version_minor": 0
      },
      "text/plain": [
       "Diagonalization time: 0.19\n",
       " Computing resonances:   0%|          | 0/478 [00:00<?, ?it/s]"
      ]
     },
     "metadata": {},
     "output_type": "display_data"
    },
    {
     "data": {
      "application/vnd.jupyter.widget-view+json": {
       "model_id": "a0c7404e616b4aa8999de2d8e8f4decf",
       "version_major": 2,
       "version_minor": 0
      },
      "text/plain": [
       "Diagonalization time: 0.19\n",
       " Computing resonances:   0%|          | 0/461 [00:00<?, ?it/s]"
      ]
     },
     "metadata": {},
     "output_type": "display_data"
    },
    {
     "data": {
      "application/vnd.jupyter.widget-view+json": {
       "model_id": "312a281c83e14292b39c965175ad7c25",
       "version_major": 2,
       "version_minor": 0
      },
      "text/plain": [
       "Diagonalization time: 0.24\n",
       " Computing resonances:   0%|          | 0/506 [00:00<?, ?it/s]"
      ]
     },
     "metadata": {},
     "output_type": "display_data"
    },
    {
     "data": {
      "application/vnd.jupyter.widget-view+json": {
       "model_id": "0e0fe725f9a7474abacc03507f4c7c1f",
       "version_major": 2,
       "version_minor": 0
      },
      "text/plain": [
       "Diagonalization time: 0.22\n",
       " Computing resonances:   0%|          | 0/486 [00:00<?, ?it/s]"
      ]
     },
     "metadata": {},
     "output_type": "display_data"
    },
    {
     "data": {
      "application/vnd.jupyter.widget-view+json": {
       "model_id": "d2af18acf8804785a4d7cfaf5adb05cd",
       "version_major": 2,
       "version_minor": 0
      },
      "text/plain": [
       "Diagonalization time: 0.27\n",
       " Computing resonances:   0%|          | 0/532 [00:00<?, ?it/s]"
      ]
     },
     "metadata": {},
     "output_type": "display_data"
    },
    {
     "data": {
      "application/vnd.jupyter.widget-view+json": {
       "model_id": "6b7596775f434b80b38ceb21ac00dbc9",
       "version_major": 2,
       "version_minor": 0
      },
      "text/plain": [
       "Diagonalization time: 0.22\n",
       " Computing resonances:   0%|          | 0/500 [00:00<?, ?it/s]"
      ]
     },
     "metadata": {},
     "output_type": "display_data"
    },
    {
     "data": {
      "application/vnd.jupyter.widget-view+json": {
       "model_id": "7da9f44d786c4a44b57cb6dcf0d44dbd",
       "version_major": 2,
       "version_minor": 0
      },
      "text/plain": [
       "Diagonalization time: 0.29\n",
       " Computing resonances:   0%|          | 0/539 [00:00<?, ?it/s]"
      ]
     },
     "metadata": {},
     "output_type": "display_data"
    },
    {
     "data": {
      "application/vnd.jupyter.widget-view+json": {
       "model_id": "552ec3dae01d4249b8240f64ddc35b6d",
       "version_major": 2,
       "version_minor": 0
      },
      "text/plain": [
       "Diagonalization time: 0.20\n",
       " Computing resonances:   0%|          | 0/489 [00:00<?, ?it/s]"
      ]
     },
     "metadata": {},
     "output_type": "display_data"
    },
    {
     "data": {
      "application/vnd.jupyter.widget-view+json": {
       "model_id": "1852eeb9eee947a5b9b879fee595621a",
       "version_major": 2,
       "version_minor": 0
      },
      "text/plain": [
       "Diagonalization time: 0.21\n",
       " Computing resonances:   0%|          | 0/496 [00:00<?, ?it/s]"
      ]
     },
     "metadata": {},
     "output_type": "display_data"
    },
    {
     "data": {
      "application/vnd.jupyter.widget-view+json": {
       "model_id": "b90f22af5b124db9ac6ec6fbc70e272f",
       "version_major": 2,
       "version_minor": 0
      },
      "text/plain": [
       "Diagonalization time: 0.21\n",
       " Computing resonances:   0%|          | 0/494 [00:00<?, ?it/s]"
      ]
     },
     "metadata": {},
     "output_type": "display_data"
    },
    {
     "data": {
      "application/vnd.jupyter.widget-view+json": {
       "model_id": "d96845245f284c0696a0d94076495ac1",
       "version_major": 2,
       "version_minor": 0
      },
      "text/plain": [
       "Diagonalization time: 0.22\n",
       " Computing resonances:   0%|          | 0/502 [00:00<?, ?it/s]"
      ]
     },
     "metadata": {},
     "output_type": "display_data"
    },
    {
     "data": {
      "application/vnd.jupyter.widget-view+json": {
       "model_id": "b6bde4f26e824054a882cc15d0bce330",
       "version_major": 2,
       "version_minor": 0
      },
      "text/plain": [
       "Diagonalization time: 0.27\n",
       " Computing resonances:   0%|          | 0/532 [00:00<?, ?it/s]"
      ]
     },
     "metadata": {},
     "output_type": "display_data"
    },
    {
     "data": {
      "application/vnd.jupyter.widget-view+json": {
       "model_id": "ab27882e239d45fbbcd87e5e26a91100",
       "version_major": 2,
       "version_minor": 0
      },
      "text/plain": [
       "Diagonalization time: 0.24\n",
       " Computing resonances:   0%|          | 0/517 [00:00<?, ?it/s]"
      ]
     },
     "metadata": {},
     "output_type": "display_data"
    },
    {
     "data": {
      "application/vnd.jupyter.widget-view+json": {
       "model_id": "7b2dfa855396411084f8737498898db5",
       "version_major": 2,
       "version_minor": 0
      },
      "text/plain": [
       "Diagonalization time: 0.21\n",
       " Computing resonances:   0%|          | 0/486 [00:00<?, ?it/s]"
      ]
     },
     "metadata": {},
     "output_type": "display_data"
    },
    {
     "data": {
      "application/vnd.jupyter.widget-view+json": {
       "model_id": "3a85548d696d4001a8570cfa2399f3a4",
       "version_major": 2,
       "version_minor": 0
      },
      "text/plain": [
       "Diagonalization time: 0.19\n",
       " Computing resonances:   0%|          | 0/479 [00:00<?, ?it/s]"
      ]
     },
     "metadata": {},
     "output_type": "display_data"
    },
    {
     "data": {
      "application/vnd.jupyter.widget-view+json": {
       "model_id": "23527a97232344a68dd6ffcfc0e1a04c",
       "version_major": 2,
       "version_minor": 0
      },
      "text/plain": [
       "Diagonalization time: 0.17\n",
       " Computing resonances:   0%|          | 0/447 [00:00<?, ?it/s]"
      ]
     },
     "metadata": {},
     "output_type": "display_data"
    },
    {
     "data": {
      "application/vnd.jupyter.widget-view+json": {
       "model_id": "fda9de138d01469b8af902537b19c950",
       "version_major": 2,
       "version_minor": 0
      },
      "text/plain": [
       "Diagonalization time: 0.18\n",
       " Computing resonances:   0%|          | 0/468 [00:00<?, ?it/s]"
      ]
     },
     "metadata": {},
     "output_type": "display_data"
    },
    {
     "data": {
      "application/vnd.jupyter.widget-view+json": {
       "model_id": "59d87adc91094d88b285db867719a1a2",
       "version_major": 2,
       "version_minor": 0
      },
      "text/plain": [
       "Diagonalization time: 0.24\n",
       " Computing resonances:   0%|          | 0/508 [00:00<?, ?it/s]"
      ]
     },
     "metadata": {},
     "output_type": "display_data"
    },
    {
     "data": {
      "application/vnd.jupyter.widget-view+json": {
       "model_id": "55b2bc8e96bc4b8faace0a3529be3dd3",
       "version_major": 2,
       "version_minor": 0
      },
      "text/plain": [
       "Diagonalization time: 0.17\n",
       " Computing resonances:   0%|          | 0/453 [00:00<?, ?it/s]"
      ]
     },
     "metadata": {},
     "output_type": "display_data"
    },
    {
     "data": {
      "application/vnd.jupyter.widget-view+json": {
       "model_id": "bac5b204836849018ffcf816675b9696",
       "version_major": 2,
       "version_minor": 0
      },
      "text/plain": [
       "Diagonalization time: 0.20\n",
       " Computing resonances:   0%|          | 0/487 [00:00<?, ?it/s]"
      ]
     },
     "metadata": {},
     "output_type": "display_data"
    },
    {
     "data": {
      "application/vnd.jupyter.widget-view+json": {
       "model_id": "c55fc6a477d14f7db0c47606b2924a22",
       "version_major": 2,
       "version_minor": 0
      },
      "text/plain": [
       "Diagonalization time: 0.25\n",
       " Computing resonances:   0%|          | 0/527 [00:00<?, ?it/s]"
      ]
     },
     "metadata": {},
     "output_type": "display_data"
    },
    {
     "data": {
      "application/vnd.jupyter.widget-view+json": {
       "model_id": "7a2d5171b359428a9abfe11481d7a3c4",
       "version_major": 2,
       "version_minor": 0
      },
      "text/plain": [
       "Diagonalization time: 0.20\n",
       " Computing resonances:   0%|          | 0/485 [00:00<?, ?it/s]"
      ]
     },
     "metadata": {},
     "output_type": "display_data"
    },
    {
     "data": {
      "application/vnd.jupyter.widget-view+json": {
       "model_id": "5e614b878c35410da3a5e80c04a6fc9e",
       "version_major": 2,
       "version_minor": 0
      },
      "text/plain": [
       "Diagonalization time: 0.21\n",
       " Computing resonances:   0%|          | 0/493 [00:00<?, ?it/s]"
      ]
     },
     "metadata": {},
     "output_type": "display_data"
    },
    {
     "data": {
      "application/vnd.jupyter.widget-view+json": {
       "model_id": "7f03f8f0e0894cc8b4a20893476716ae",
       "version_major": 2,
       "version_minor": 0
      },
      "text/plain": [
       "Diagonalization time: 0.19\n",
       " Computing resonances:   0%|          | 0/465 [00:00<?, ?it/s]"
      ]
     },
     "metadata": {},
     "output_type": "display_data"
    },
    {
     "data": {
      "application/vnd.jupyter.widget-view+json": {
       "model_id": "e75dfba79c4d4c1e945a894604368eed",
       "version_major": 2,
       "version_minor": 0
      },
      "text/plain": [
       "Diagonalization time: 0.19\n",
       " Computing resonances:   0%|          | 0/469 [00:00<?, ?it/s]"
      ]
     },
     "metadata": {},
     "output_type": "display_data"
    },
    {
     "data": {
      "application/vnd.jupyter.widget-view+json": {
       "model_id": "474fa124d8d14a45b0157f8bcd126b98",
       "version_major": 2,
       "version_minor": 0
      },
      "text/plain": [
       "Diagonalization time: 0.20\n",
       " Computing resonances:   0%|          | 0/491 [00:00<?, ?it/s]"
      ]
     },
     "metadata": {},
     "output_type": "display_data"
    },
    {
     "data": {
      "application/vnd.jupyter.widget-view+json": {
       "model_id": "761ee53b53d541e683041124b6c484cf",
       "version_major": 2,
       "version_minor": 0
      },
      "text/plain": [
       "Diagonalization time: 0.16\n",
       " Computing resonances:   0%|          | 0/451 [00:00<?, ?it/s]"
      ]
     },
     "metadata": {},
     "output_type": "display_data"
    },
    {
     "data": {
      "application/vnd.jupyter.widget-view+json": {
       "model_id": "f8f6f02a68d945c385a27f5bbbf75608",
       "version_major": 2,
       "version_minor": 0
      },
      "text/plain": [
       "Diagonalization time: 0.20\n",
       " Computing resonances:   0%|          | 0/481 [00:00<?, ?it/s]"
      ]
     },
     "metadata": {},
     "output_type": "display_data"
    },
    {
     "data": {
      "application/vnd.jupyter.widget-view+json": {
       "model_id": "c8164006607e42038a87257a364c49c5",
       "version_major": 2,
       "version_minor": 0
      },
      "text/plain": [
       "Diagonalization time: 0.20\n",
       " Computing resonances:   0%|          | 0/481 [00:00<?, ?it/s]"
      ]
     },
     "metadata": {},
     "output_type": "display_data"
    },
    {
     "data": {
      "application/vnd.jupyter.widget-view+json": {
       "model_id": "dc46dd1ebb5c4855a36820c79331bcc8",
       "version_major": 2,
       "version_minor": 0
      },
      "text/plain": [
       "Diagonalization time: 0.24\n",
       " Computing resonances:   0%|          | 0/509 [00:00<?, ?it/s]"
      ]
     },
     "metadata": {},
     "output_type": "display_data"
    },
    {
     "data": {
      "application/vnd.jupyter.widget-view+json": {
       "model_id": "ced090abafa543e7aea10c5debb78f3c",
       "version_major": 2,
       "version_minor": 0
      },
      "text/plain": [
       "Diagonalization time: 0.24\n",
       " Computing resonances:   0%|          | 0/511 [00:00<?, ?it/s]"
      ]
     },
     "metadata": {},
     "output_type": "display_data"
    },
    {
     "data": {
      "application/vnd.jupyter.widget-view+json": {
       "model_id": "3da973948f5a41c8a38e618d1959aca8",
       "version_major": 2,
       "version_minor": 0
      },
      "text/plain": [
       "Diagonalization time: 0.20\n",
       " Computing resonances:   0%|          | 0/489 [00:00<?, ?it/s]"
      ]
     },
     "metadata": {},
     "output_type": "display_data"
    },
    {
     "data": {
      "application/vnd.jupyter.widget-view+json": {
       "model_id": "4f77335cb0854e4dbabde8f5e6bef6c8",
       "version_major": 2,
       "version_minor": 0
      },
      "text/plain": [
       "Diagonalization time: 0.20\n",
       " Computing resonances:   0%|          | 0/493 [00:00<?, ?it/s]"
      ]
     },
     "metadata": {},
     "output_type": "display_data"
    },
    {
     "data": {
      "application/vnd.jupyter.widget-view+json": {
       "model_id": "7b81251150994c8a9acb745274d82515",
       "version_major": 2,
       "version_minor": 0
      },
      "text/plain": [
       "Diagonalization time: 0.20\n",
       " Computing resonances:   0%|          | 0/491 [00:00<?, ?it/s]"
      ]
     },
     "metadata": {},
     "output_type": "display_data"
    },
    {
     "data": {
      "application/vnd.jupyter.widget-view+json": {
       "model_id": "1e062224e7474092a185cf0ca8e4f9a6",
       "version_major": 2,
       "version_minor": 0
      },
      "text/plain": [
       "Diagonalization time: 0.20\n",
       " Computing resonances:   0%|          | 0/462 [00:00<?, ?it/s]"
      ]
     },
     "metadata": {},
     "output_type": "display_data"
    },
    {
     "data": {
      "application/vnd.jupyter.widget-view+json": {
       "model_id": "6dee3d4b5d8d42328206dc43776d0202",
       "version_major": 2,
       "version_minor": 0
      },
      "text/plain": [
       "Diagonalization time: 0.30\n",
       " Computing resonances:   0%|          | 0/534 [00:00<?, ?it/s]"
      ]
     },
     "metadata": {},
     "output_type": "display_data"
    },
    {
     "data": {
      "application/vnd.jupyter.widget-view+json": {
       "model_id": "35f3daf1f7f744ca8e030b570af730e0",
       "version_major": 2,
       "version_minor": 0
      },
      "text/plain": [
       "Diagonalization time: 0.19\n",
       " Computing resonances:   0%|          | 0/456 [00:00<?, ?it/s]"
      ]
     },
     "metadata": {},
     "output_type": "display_data"
    },
    {
     "data": {
      "application/vnd.jupyter.widget-view+json": {
       "model_id": "32db3e6bdb3c421e83f2825055d93139",
       "version_major": 2,
       "version_minor": 0
      },
      "text/plain": [
       "Diagonalization time: 0.21\n",
       " Computing resonances:   0%|          | 0/493 [00:00<?, ?it/s]"
      ]
     },
     "metadata": {},
     "output_type": "display_data"
    },
    {
     "data": {
      "application/vnd.jupyter.widget-view+json": {
       "model_id": "3df515a29097423faa679a05a9e23e46",
       "version_major": 2,
       "version_minor": 0
      },
      "text/plain": [
       "Diagonalization time: 0.17\n",
       " Computing resonances:   0%|          | 0/453 [00:00<?, ?it/s]"
      ]
     },
     "metadata": {},
     "output_type": "display_data"
    },
    {
     "data": {
      "application/vnd.jupyter.widget-view+json": {
       "model_id": "bd0184b53a1540618d5f9066bd703491",
       "version_major": 2,
       "version_minor": 0
      },
      "text/plain": [
       "Diagonalization time: 0.20\n",
       " Computing resonances:   0%|          | 0/481 [00:00<?, ?it/s]"
      ]
     },
     "metadata": {},
     "output_type": "display_data"
    },
    {
     "data": {
      "application/vnd.jupyter.widget-view+json": {
       "model_id": "c26acdece8004264963cb58a248e84a2",
       "version_major": 2,
       "version_minor": 0
      },
      "text/plain": [
       "Diagonalization time: 0.17\n",
       " Computing resonances:   0%|          | 0/453 [00:00<?, ?it/s]"
      ]
     },
     "metadata": {},
     "output_type": "display_data"
    },
    {
     "data": {
      "application/vnd.jupyter.widget-view+json": {
       "model_id": "5d6603b0460947cc82607830a1310e93",
       "version_major": 2,
       "version_minor": 0
      },
      "text/plain": [
       "Diagonalization time: 0.20\n",
       " Computing resonances:   0%|          | 0/483 [00:00<?, ?it/s]"
      ]
     },
     "metadata": {},
     "output_type": "display_data"
    },
    {
     "data": {
      "application/vnd.jupyter.widget-view+json": {
       "model_id": "e66d95aec5464d989f4cbeebc6b282f7",
       "version_major": 2,
       "version_minor": 0
      },
      "text/plain": [
       "Diagonalization time: 0.21\n",
       " Computing resonances:   0%|          | 0/483 [00:00<?, ?it/s]"
      ]
     },
     "metadata": {},
     "output_type": "display_data"
    },
    {
     "data": {
      "application/vnd.jupyter.widget-view+json": {
       "model_id": "a67e5da037004dcd86ab294105738ff0",
       "version_major": 2,
       "version_minor": 0
      },
      "text/plain": [
       "Diagonalization time: 0.19\n",
       " Computing resonances:   0%|          | 0/481 [00:00<?, ?it/s]"
      ]
     },
     "metadata": {},
     "output_type": "display_data"
    },
    {
     "data": {
      "application/vnd.jupyter.widget-view+json": {
       "model_id": "43e268f42cdf48e09c900db3566e659d",
       "version_major": 2,
       "version_minor": 0
      },
      "text/plain": [
       "Diagonalization time: 0.19\n",
       " Computing resonances:   0%|          | 0/477 [00:00<?, ?it/s]"
      ]
     },
     "metadata": {},
     "output_type": "display_data"
    },
    {
     "data": {
      "application/vnd.jupyter.widget-view+json": {
       "model_id": "31b663cad70041c8967b4ba858d7c298",
       "version_major": 2,
       "version_minor": 0
      },
      "text/plain": [
       "Diagonalization time: 0.27\n",
       " Computing resonances:   0%|          | 0/532 [00:00<?, ?it/s]"
      ]
     },
     "metadata": {},
     "output_type": "display_data"
    },
    {
     "data": {
      "application/vnd.jupyter.widget-view+json": {
       "model_id": "c7d41db5135e43709ed7fb59d0edcac3",
       "version_major": 2,
       "version_minor": 0
      },
      "text/plain": [
       "Diagonalization time: 0.21\n",
       " Computing resonances:   0%|          | 0/500 [00:00<?, ?it/s]"
      ]
     },
     "metadata": {},
     "output_type": "display_data"
    },
    {
     "data": {
      "application/vnd.jupyter.widget-view+json": {
       "model_id": "3cf24b0547b54aedbecee2cdd2c1c1e6",
       "version_major": 2,
       "version_minor": 0
      },
      "text/plain": [
       "Diagonalization time: 0.20\n",
       " Computing resonances:   0%|          | 0/481 [00:00<?, ?it/s]"
      ]
     },
     "metadata": {},
     "output_type": "display_data"
    },
    {
     "data": {
      "application/vnd.jupyter.widget-view+json": {
       "model_id": "7161033f25b344008e899e89224726d6",
       "version_major": 2,
       "version_minor": 0
      },
      "text/plain": [
       "Diagonalization time: 0.19\n",
       " Computing resonances:   0%|          | 0/468 [00:00<?, ?it/s]"
      ]
     },
     "metadata": {},
     "output_type": "display_data"
    },
    {
     "data": {
      "application/vnd.jupyter.widget-view+json": {
       "model_id": "5eb327152a2847d38409983e19add926",
       "version_major": 2,
       "version_minor": 0
      },
      "text/plain": [
       "Diagonalization time: 0.27\n",
       " Computing resonances:   0%|          | 0/503 [00:00<?, ?it/s]"
      ]
     },
     "metadata": {},
     "output_type": "display_data"
    },
    {
     "data": {
      "application/vnd.jupyter.widget-view+json": {
       "model_id": "6d3b519a2e4b4677baea39bb59b19b4f",
       "version_major": 2,
       "version_minor": 0
      },
      "text/plain": [
       "Diagonalization time: 0.21\n",
       " Computing resonances:   0%|          | 0/500 [00:00<?, ?it/s]"
      ]
     },
     "metadata": {},
     "output_type": "display_data"
    },
    {
     "data": {
      "application/vnd.jupyter.widget-view+json": {
       "model_id": "73607a00fc2947c4979aacc2b6c7ee59",
       "version_major": 2,
       "version_minor": 0
      },
      "text/plain": [
       "Diagonalization time: 0.20\n",
       " Computing resonances:   0%|          | 0/483 [00:00<?, ?it/s]"
      ]
     },
     "metadata": {},
     "output_type": "display_data"
    },
    {
     "data": {
      "application/vnd.jupyter.widget-view+json": {
       "model_id": "c8dad259e8ef43dea8f240212203a73b",
       "version_major": 2,
       "version_minor": 0
      },
      "text/plain": [
       "Diagonalization time: 0.30\n",
       " Computing resonances:   0%|          | 0/530 [00:00<?, ?it/s]"
      ]
     },
     "metadata": {},
     "output_type": "display_data"
    },
    {
     "data": {
      "application/vnd.jupyter.widget-view+json": {
       "model_id": "5fad347436be47fda0b89f3041b6c1a0",
       "version_major": 2,
       "version_minor": 0
      },
      "text/plain": [
       "Diagonalization time: 0.27\n",
       " Computing resonances:   0%|          | 0/514 [00:00<?, ?it/s]"
      ]
     },
     "metadata": {},
     "output_type": "display_data"
    },
    {
     "data": {
      "application/vnd.jupyter.widget-view+json": {
       "model_id": "64790ebda7aa495a9b07134556af7bef",
       "version_major": 2,
       "version_minor": 0
      },
      "text/plain": [
       "Diagonalization time: 0.27\n",
       " Computing resonances:   0%|          | 0/504 [00:00<?, ?it/s]"
      ]
     },
     "metadata": {},
     "output_type": "display_data"
    },
    {
     "data": {
      "application/vnd.jupyter.widget-view+json": {
       "model_id": "c0fe5ecd983644cfb3fccd9f892b2cde",
       "version_major": 2,
       "version_minor": 0
      },
      "text/plain": [
       "Diagonalization time: 0.20\n",
       " Computing resonances:   0%|          | 0/489 [00:00<?, ?it/s]"
      ]
     },
     "metadata": {},
     "output_type": "display_data"
    },
    {
     "data": {
      "application/vnd.jupyter.widget-view+json": {
       "model_id": "20c44491085944ecb8ea8fbce8822afd",
       "version_major": 2,
       "version_minor": 0
      },
      "text/plain": [
       "Diagonalization time: 0.20\n",
       " Computing resonances:   0%|          | 0/484 [00:00<?, ?it/s]"
      ]
     },
     "metadata": {},
     "output_type": "display_data"
    },
    {
     "data": {
      "application/vnd.jupyter.widget-view+json": {
       "model_id": "7a5dd018fc204fccb2ebf66829f651a4",
       "version_major": 2,
       "version_minor": 0
      },
      "text/plain": [
       "Diagonalization time: 0.26\n",
       " Computing resonances:   0%|          | 0/538 [00:00<?, ?it/s]"
      ]
     },
     "metadata": {},
     "output_type": "display_data"
    },
    {
     "data": {
      "application/vnd.jupyter.widget-view+json": {
       "model_id": "29fc6859461049dfb0f2a0626d61e0e3",
       "version_major": 2,
       "version_minor": 0
      },
      "text/plain": [
       "Diagonalization time: 0.24\n",
       " Computing resonances:   0%|          | 0/501 [00:00<?, ?it/s]"
      ]
     },
     "metadata": {},
     "output_type": "display_data"
    },
    {
     "data": {
      "application/vnd.jupyter.widget-view+json": {
       "model_id": "782dbe9aaea94a9f92b720c0e88eb871",
       "version_major": 2,
       "version_minor": 0
      },
      "text/plain": [
       "Diagonalization time: 0.21\n",
       " Computing resonances:   0%|          | 0/494 [00:00<?, ?it/s]"
      ]
     },
     "metadata": {},
     "output_type": "display_data"
    },
    {
     "data": {
      "application/vnd.jupyter.widget-view+json": {
       "model_id": "abf81eee211f4e66be71e95f7c481d0e",
       "version_major": 2,
       "version_minor": 0
      },
      "text/plain": [
       "Diagonalization time: 0.21\n",
       " Computing resonances:   0%|          | 0/492 [00:00<?, ?it/s]"
      ]
     },
     "metadata": {},
     "output_type": "display_data"
    },
    {
     "data": {
      "application/vnd.jupyter.widget-view+json": {
       "model_id": "87dd511ab75d4b0a985c361e935f18cd",
       "version_major": 2,
       "version_minor": 0
      },
      "text/plain": [
       "Diagonalization time: 0.26\n",
       " Computing resonances:   0%|          | 0/519 [00:00<?, ?it/s]"
      ]
     },
     "metadata": {},
     "output_type": "display_data"
    },
    {
     "data": {
      "application/vnd.jupyter.widget-view+json": {
       "model_id": "c9a2a20dd84a4ac1be0bd8161fd4a886",
       "version_major": 2,
       "version_minor": 0
      },
      "text/plain": [
       "Diagonalization time: 0.21\n",
       " Computing resonances:   0%|          | 0/491 [00:00<?, ?it/s]"
      ]
     },
     "metadata": {},
     "output_type": "display_data"
    },
    {
     "data": {
      "application/vnd.jupyter.widget-view+json": {
       "model_id": "9e76994dcb4b40369aa0ddff25d513e0",
       "version_major": 2,
       "version_minor": 0
      },
      "text/plain": [
       "Diagonalization time: 0.20\n",
       " Computing resonances:   0%|          | 0/494 [00:00<?, ?it/s]"
      ]
     },
     "metadata": {},
     "output_type": "display_data"
    },
    {
     "data": {
      "application/vnd.jupyter.widget-view+json": {
       "model_id": "b8fe4a0f516245c1ab3c2e84e3a15da6",
       "version_major": 2,
       "version_minor": 0
      },
      "text/plain": [
       "Diagonalization time: 0.16\n",
       " Computing resonances:   0%|          | 0/438 [00:00<?, ?it/s]"
      ]
     },
     "metadata": {},
     "output_type": "display_data"
    },
    {
     "data": {
      "application/vnd.jupyter.widget-view+json": {
       "model_id": "0fa4d67636534dd6a1dfa12c5a8f4f22",
       "version_major": 2,
       "version_minor": 0
      },
      "text/plain": [
       "Diagonalization time: 0.21\n",
       " Computing resonances:   0%|          | 0/495 [00:00<?, ?it/s]"
      ]
     },
     "metadata": {},
     "output_type": "display_data"
    },
    {
     "data": {
      "application/vnd.jupyter.widget-view+json": {
       "model_id": "5c241f748915461c9ab78ab29576cc56",
       "version_major": 2,
       "version_minor": 0
      },
      "text/plain": [
       "Diagonalization time: 0.22\n",
       " Computing resonances:   0%|          | 0/489 [00:00<?, ?it/s]"
      ]
     },
     "metadata": {},
     "output_type": "display_data"
    },
    {
     "data": {
      "application/vnd.jupyter.widget-view+json": {
       "model_id": "a6a4f6f126444a7aa9d71b6298a1167b",
       "version_major": 2,
       "version_minor": 0
      },
      "text/plain": [
       "Diagonalization time: 0.20\n",
       " Computing resonances:   0%|          | 0/475 [00:00<?, ?it/s]"
      ]
     },
     "metadata": {},
     "output_type": "display_data"
    },
    {
     "data": {
      "application/vnd.jupyter.widget-view+json": {
       "model_id": "ddf4ca84a9024488a31e3cb13d5093cd",
       "version_major": 2,
       "version_minor": 0
      },
      "text/plain": [
       "Diagonalization time: 0.20\n",
       " Computing resonances:   0%|          | 0/481 [00:00<?, ?it/s]"
      ]
     },
     "metadata": {},
     "output_type": "display_data"
    },
    {
     "data": {
      "application/vnd.jupyter.widget-view+json": {
       "model_id": "31c98dd2dfdb44dbbf18024bc8bf3d03",
       "version_major": 2,
       "version_minor": 0
      },
      "text/plain": [
       "Diagonalization time: 0.21\n",
       " Computing resonances:   0%|          | 0/487 [00:00<?, ?it/s]"
      ]
     },
     "metadata": {},
     "output_type": "display_data"
    },
    {
     "data": {
      "application/vnd.jupyter.widget-view+json": {
       "model_id": "3a454447f18542f7a204f1e418dc9b5b",
       "version_major": 2,
       "version_minor": 0
      },
      "text/plain": [
       "Diagonalization time: 0.19\n",
       " Computing resonances:   0%|          | 0/471 [00:00<?, ?it/s]"
      ]
     },
     "metadata": {},
     "output_type": "display_data"
    },
    {
     "data": {
      "application/vnd.jupyter.widget-view+json": {
       "model_id": "baaeeeaae5fa4899994ff3edfd2015bf",
       "version_major": 2,
       "version_minor": 0
      },
      "text/plain": [
       "Diagonalization time: 0.20\n",
       " Computing resonances:   0%|          | 0/464 [00:00<?, ?it/s]"
      ]
     },
     "metadata": {},
     "output_type": "display_data"
    },
    {
     "data": {
      "application/vnd.jupyter.widget-view+json": {
       "model_id": "e19a7220e65645ccba75679aed2f603b",
       "version_major": 2,
       "version_minor": 0
      },
      "text/plain": [
       "Diagonalization time: 0.19\n",
       " Computing resonances:   0%|          | 0/475 [00:00<?, ?it/s]"
      ]
     },
     "metadata": {},
     "output_type": "display_data"
    },
    {
     "data": {
      "application/vnd.jupyter.widget-view+json": {
       "model_id": "31eecb259fab4901b06bf2aee14727b8",
       "version_major": 2,
       "version_minor": 0
      },
      "text/plain": [
       "Diagonalization time: 0.20\n",
       " Computing resonances:   0%|          | 0/474 [00:00<?, ?it/s]"
      ]
     },
     "metadata": {},
     "output_type": "display_data"
    },
    {
     "data": {
      "application/vnd.jupyter.widget-view+json": {
       "model_id": "f1bb01ade56e4f9f915a29e24d108af8",
       "version_major": 2,
       "version_minor": 0
      },
      "text/plain": [
       "Diagonalization time: 0.20\n",
       " Computing resonances:   0%|          | 0/478 [00:00<?, ?it/s]"
      ]
     },
     "metadata": {},
     "output_type": "display_data"
    },
    {
     "data": {
      "application/vnd.jupyter.widget-view+json": {
       "model_id": "17294f3691814e15b545a0ff92332f00",
       "version_major": 2,
       "version_minor": 0
      },
      "text/plain": [
       "Diagonalization time: 0.20\n",
       " Computing resonances:   0%|          | 0/487 [00:00<?, ?it/s]"
      ]
     },
     "metadata": {},
     "output_type": "display_data"
    },
    {
     "data": {
      "application/vnd.jupyter.widget-view+json": {
       "model_id": "2e4d0da7e8a0423293b17279cd92eea0",
       "version_major": 2,
       "version_minor": 0
      },
      "text/plain": [
       "Diagonalization time: 0.21\n",
       " Computing resonances:   0%|          | 0/488 [00:00<?, ?it/s]"
      ]
     },
     "metadata": {},
     "output_type": "display_data"
    },
    {
     "data": {
      "application/vnd.jupyter.widget-view+json": {
       "model_id": "8f926f2f4d2c4246a8213d626ee95d81",
       "version_major": 2,
       "version_minor": 0
      },
      "text/plain": [
       "Diagonalization time: 0.18\n",
       " Computing resonances:   0%|          | 0/474 [00:00<?, ?it/s]"
      ]
     },
     "metadata": {},
     "output_type": "display_data"
    },
    {
     "data": {
      "application/vnd.jupyter.widget-view+json": {
       "model_id": "ebd14e169532487ab9c689f666dee3ef",
       "version_major": 2,
       "version_minor": 0
      },
      "text/plain": [
       "Diagonalization time: 0.27\n",
       " Computing resonances:   0%|          | 0/505 [00:00<?, ?it/s]"
      ]
     },
     "metadata": {},
     "output_type": "display_data"
    },
    {
     "data": {
      "application/vnd.jupyter.widget-view+json": {
       "model_id": "06f5abce809f4990b8e9df444ae2ce88",
       "version_major": 2,
       "version_minor": 0
      },
      "text/plain": [
       "Diagonalization time: 0.21\n",
       " Computing resonances:   0%|          | 0/475 [00:00<?, ?it/s]"
      ]
     },
     "metadata": {},
     "output_type": "display_data"
    },
    {
     "data": {
      "application/vnd.jupyter.widget-view+json": {
       "model_id": "33b41a23ad744d408e1bc856549bdb06",
       "version_major": 2,
       "version_minor": 0
      },
      "text/plain": [
       "Diagonalization time: 0.22\n",
       " Computing resonances:   0%|          | 0/496 [00:00<?, ?it/s]"
      ]
     },
     "metadata": {},
     "output_type": "display_data"
    },
    {
     "data": {
      "application/vnd.jupyter.widget-view+json": {
       "model_id": "6db428f16606438c92e94c906ea8e1c6",
       "version_major": 2,
       "version_minor": 0
      },
      "text/plain": [
       "Diagonalization time: 0.22\n",
       " Computing resonances:   0%|          | 0/488 [00:00<?, ?it/s]"
      ]
     },
     "metadata": {},
     "output_type": "display_data"
    },
    {
     "data": {
      "application/vnd.jupyter.widget-view+json": {
       "model_id": "8f2dc818098a4786b69d8f01cbf3d0be",
       "version_major": 2,
       "version_minor": 0
      },
      "text/plain": [
       "Diagonalization time: 0.20\n",
       " Computing resonances:   0%|          | 0/474 [00:00<?, ?it/s]"
      ]
     },
     "metadata": {},
     "output_type": "display_data"
    },
    {
     "data": {
      "application/vnd.jupyter.widget-view+json": {
       "model_id": "940d09304f20436f88479940a747589e",
       "version_major": 2,
       "version_minor": 0
      },
      "text/plain": [
       "Diagonalization time: 0.21\n",
       " Computing resonances:   0%|          | 0/499 [00:00<?, ?it/s]"
      ]
     },
     "metadata": {},
     "output_type": "display_data"
    },
    {
     "name": "stdout",
     "output_type": "stream",
     "text": [
      "Time elapsed: 8943.78\n"
     ]
    },
    {
     "data": {
      "application/vnd.jupyter.widget-view+json": {
       "model_id": "92f55d38fc834b0abbbf7d0f1903ef49",
       "version_major": 2,
       "version_minor": 0
      },
      "text/plain": [
       "  0%|          | 0/48813 [00:00<?, ?it/s]"
      ]
     },
     "metadata": {},
     "output_type": "display_data"
    },
    {
     "name": "stderr",
     "output_type": "stream",
     "text": [
      "/home/pau/Desktop/TFM/Disordered-Quantum-Gases/clean_code/result.py:18: ComplexWarning: Casting complex values to real discards the imaginary part\n",
      "  return int((np.log(self.a_eff)-min_ln_a_eff)/(max_ln_a_eff-min_ln_a_eff)*n_ln_a_eff)\n",
      "/home/pau/Desktop/TFM/Disordered-Quantum-Gases/clean_code/histogram.py:34: RuntimeWarning: invalid value encountered in log10\n",
      "  self.histogram[a_eff_index, energy_index]+=np.log10(result.width)\n",
      "/home/pau/Desktop/TFM/Disordered-Quantum-Gases/clean_code/histogram.py:36: RuntimeWarning: invalid value encountered in divide\n",
      "  self.histogram = self.histogram/number_of_resonances\n"
     ]
    },
    {
     "data": {
      "image/png": "[encoded data removed]",
      "text/plain": [
       "<Figure size 640x480 with 2 Axes>"
      ]
     },
     "metadata": {},
     "output_type": "display_data"
    }
   ],
   "source": [
    "from main import main\n",
    "results = main()"
   ]
  },
  {
   "cell_type": "code",
   "execution_count": 19,
   "metadata": {},
   "outputs": [
    {
     "data": {
      "application/vnd.jupyter.widget-view+json": {
       "model_id": "80f3a9f60d1844b1a2eda3bd4a4f07ec",
       "version_major": 2,
       "version_minor": 0
      },
      "text/plain": [
       "  0%|          | 0/48813 [00:00<?, ?it/s]"
      ]
     },
     "metadata": {},
     "output_type": "display_data"
    },
    {
     "name": "stderr",
     "output_type": "stream",
     "text": [
      "/home/pau/Desktop/TFM/Disordered-Quantum-Gases/clean_code/result.py:18: ComplexWarning: Casting complex values to real discards the imaginary part\n",
      "  return int((np.log(self.a_eff)-min_ln_a_eff)/(max_ln_a_eff-min_ln_a_eff)*n_ln_a_eff)\n",
      "/home/pau/Desktop/TFM/Disordered-Quantum-Gases/clean_code/histogram.py:34: RuntimeWarning: invalid value encountered in log10\n",
      "  self.histogram[a_eff_index, energy_index]+=np.log10(result.width)\n",
      "/home/pau/Desktop/TFM/Disordered-Quantum-Gases/clean_code/histogram.py:36: RuntimeWarning: invalid value encountered in divide\n",
      "  self.histogram = self.histogram/number_of_resonances\n"
     ]
    },
    {
     "data": {
      "text/plain": [
       "<matplotlib.colorbar.Colorbar at 0x78d233de3190>"
      ]
     },
     "execution_count": 19,
     "metadata": {},
     "output_type": "execute_result"
    },
    {
     "data": {
      "image/png": "[encoded data removed]",
      "text/plain": [
       "<Figure size 640x480 with 2 Axes>"
      ]
     },
     "metadata": {},
     "output_type": "display_data"
    }
   ],
   "source": [
    "from histogram import Histogram\n",
    "from utils import read_inputs\n",
    "import matplotlib.pyplot as plt\n",
    "import numpy as np\n",
    "length, min_energy, max_energy, n_energies, min_ln_a_eff, max_ln_a_eff, n_ln_a_eff, occupation_probability = read_inputs()\n",
    "histogram = Histogram(results, min_energy=min_energy, max_energy=max_energy, n_energies=n_energies, min_ln_a_eff=min_ln_a_eff, max_ln_a_eff=max_ln_a_eff, n_ln_a_eff=n_ln_a_eff, compute_width=True)\n",
    "np.nan_to_num(histogram.histogram, copy=False)\n",
    "plt.pcolor(histogram.histogram, cmap='RdBu')\n",
    "plt.colorbar()"
   ]
  },
  {
   "cell_type": "code",
   "execution_count": 16,
   "metadata": {},
   "outputs": [
    {
     "name": "stdout",
     "output_type": "stream",
     "text": [
      "[-0.23169823 -3.95837066 -3.37822365         nan -2.41858304 -3.6229769\n",
      " -3.67568474 -3.19587383         nan         nan         nan         nan\n",
      "         nan -1.59643891         nan -2.09936991         nan         nan\n",
      "         nan         nan         nan         nan         nan         nan\n",
      "         nan         nan         nan -0.49128178         nan         nan\n",
      "         nan         nan         nan         nan         nan         nan\n",
      "         nan         nan         nan         nan         nan         nan\n",
      "         nan         nan         nan         nan         nan         nan\n",
      "         nan         nan         nan         nan         nan         nan\n",
      "         nan         nan         nan         nan         nan         nan\n",
      "         nan         nan         nan         nan         nan         nan\n",
      "         nan         nan         nan         nan         nan         nan\n",
      "         nan         nan         nan         nan         nan         nan\n",
      "         nan         nan         nan         nan         nan         nan\n",
      "         nan         nan         nan         nan         nan         nan\n",
      "         nan         nan         nan         nan         nan         nan\n",
      "         nan         nan         nan         nan]\n"
     ]
    },
    {
     "data": {
      "image/png": "[encoded data removed]",
      "text/plain": [
       "<Figure size 640x480 with 1 Axes>"
      ]
     },
     "metadata": {},
     "output_type": "display_data"
    }
   ],
   "source": [
    "plt.plot(histogram.histogram[300])\n",
    "print(histogram.histogram[300])"
   ]
  }
 ],
 "metadata": {
  "kernelspec": {
   "display_name": "TFM",
   "language": "python",
   "name": "python3"
  },
  "language_info": {
   "codemirror_mode": {
    "name": "ipython",
    "version": 3
   },
   "file_extension": ".py",
   "mimetype": "text/x-python",
   "name": "python",
   "nbconvert_exporter": "python",
   "pygments_lexer": "ipython3",
   "version": "3.11.9"
  }
 },
 "nbformat": 4,
 "nbformat_minor": 2
}
